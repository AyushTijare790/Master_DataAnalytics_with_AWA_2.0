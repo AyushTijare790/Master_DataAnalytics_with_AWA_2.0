{
  "cells": [
    {
      "cell_type": "markdown",
      "source": [
        "                                                       Python Assignment - SLICING"
      ],
      "metadata": {
        "id": "-iWvx7HGK9DT"
      }
    },
    {
      "cell_type": "markdown",
      "source": [
        "Name : Ayush Tijare\n",
        "\n",
        "Date : 5/09/2024"
      ],
      "metadata": {
        "id": "5rW9KKyUSxZM"
      }
    },
    {
      "cell_type": "markdown",
      "source": [
        "Part 1: Basic Slicing\n",
        "\n",
        "1.Introduction to Slicing:\n",
        "\n",
        "a. Given a string s = \"Hello, World!\", slice and print the following:\n",
        "\n",
        "i. The entire string.\n",
        "\n",
        "ii. The first 5 characters.\n",
        "\n",
        "iii. The last 5 characters.\n",
        "\n",
        "iv. The string excludes the first and last characters.\n",
        "\n",
        "v. Every second character in the string."
      ],
      "metadata": {
        "id": "pMdH2n6rMrPZ"
      }
    },
    {
      "cell_type": "code",
      "source": [
        "# i. The entire string.\n",
        "\n",
        "s = \"Hello, World!\"\n",
        "print(s[:])            # Prints entire string"
      ],
      "metadata": {
        "colab": {
          "base_uri": "https://localhost:8080/"
        },
        "id": "oQfNb6SiMuQP",
        "outputId": "c8436112-f836-45dc-a1b2-4b60f8f7eee3"
      },
      "execution_count": null,
      "outputs": [
        {
          "output_type": "stream",
          "name": "stdout",
          "text": [
            "Hello, World!\n"
          ]
        }
      ]
    },
    {
      "cell_type": "code",
      "source": [
        "# ii. The first five characters.\n",
        "\n",
        "print(s[0:5])          # Prints characters starting from index position 0 till 5"
      ],
      "metadata": {
        "colab": {
          "base_uri": "https://localhost:8080/"
        },
        "id": "SobplcZvPOEW",
        "outputId": "0cc78e05-4685-4d49-e778-488870cd2477"
      },
      "execution_count": 9,
      "outputs": [
        {
          "output_type": "stream",
          "name": "stdout",
          "text": [
            "Hello\n"
          ]
        }
      ]
    },
    {
      "cell_type": "code",
      "source": [
        "# iii. The last five characters.\n",
        "\n",
        "print(s[8:])         # using positive indices\n",
        "print(s[-5:])        # using negative indices"
      ],
      "metadata": {
        "colab": {
          "base_uri": "https://localhost:8080/"
        },
        "id": "I3fw9TFpPkyf",
        "outputId": "d8940bb7-d46e-47ba-8d74-54adcffeee4e"
      },
      "execution_count": 11,
      "outputs": [
        {
          "output_type": "stream",
          "name": "stdout",
          "text": [
            "orld!\n",
            "orld!\n"
          ]
        }
      ]
    },
    {
      "cell_type": "code",
      "source": [
        "# iv. The string excludes the first and last character\n",
        "\n",
        "print(s[1:12])      # using positive indices\n",
        "print(s[-12:-1])    # using negative indices\n",
        "print(s[1:-1])"
      ],
      "metadata": {
        "colab": {
          "base_uri": "https://localhost:8080/"
        },
        "id": "DpiELPrQQ1SZ",
        "outputId": "bc7c63d9-2084-4000-cbb0-6c12822bcf81"
      },
      "execution_count": null,
      "outputs": [
        {
          "output_type": "stream",
          "name": "stdout",
          "text": [
            "ello, World\n",
            "ello, World\n",
            "ello, World\n"
          ]
        }
      ]
    },
    {
      "cell_type": "code",
      "source": [
        "# v. Every second character in the string.\n",
        "\n",
        "print(s[::2])"
      ],
      "metadata": {
        "colab": {
          "base_uri": "https://localhost:8080/"
        },
        "id": "NC5ZBwobSaTu",
        "outputId": "0a92e8d0-b4a3-4165-d575-45ebda705320"
      },
      "execution_count": null,
      "outputs": [
        {
          "output_type": "stream",
          "name": "stdout",
          "text": [
            "Hlo ol!\n"
          ]
        }
      ]
    },
    {
      "cell_type": "markdown",
      "source": [
        "2.Slicing with Negative Indices:\n",
        "\n",
        "\n",
        "a.Use negative indices to slice and print the following from the strings:\n",
        "1. The last 3 characters.\n",
        "2. All characters except the last 2.\n",
        "3. The string reversed."
      ],
      "metadata": {
        "id": "kNTcAIMxS-qC"
      }
    },
    {
      "cell_type": "code",
      "source": [
        "# 1. The last 3 characters\n",
        "\n",
        "s = \"Hello, World!\"\n",
        "print(s[-3:])             # Prints last 3 caharacters by using negative"
      ],
      "metadata": {
        "id": "Xc1mzJbLTGV1"
      },
      "execution_count": null,
      "outputs": []
    },
    {
      "cell_type": "code",
      "source": [
        "# 2. All Characters except last 2\n",
        "\n",
        "print(s[:-2])             # Step-size skip characters from both sides"
      ],
      "metadata": {
        "colab": {
          "base_uri": "https://localhost:8080/"
        },
        "id": "P9JEjXzKUkVs",
        "outputId": "7e3adc1a-9bb2-4fa8-dd80-a354d7be15b2"
      },
      "execution_count": null,
      "outputs": [
        {
          "output_type": "stream",
          "name": "stdout",
          "text": [
            "Hello, Worl\n"
          ]
        }
      ]
    },
    {
      "cell_type": "code",
      "source": [
        "# 3. The string reversed.\n",
        "\n",
        "print(s[::-1])           # Reverses the string"
      ],
      "metadata": {
        "colab": {
          "base_uri": "https://localhost:8080/"
        },
        "id": "uf3mjB_XWRm0",
        "outputId": "7e5c6ac9-5780-4d3b-8ac3-4f08b1fdd0dc"
      },
      "execution_count": null,
      "outputs": [
        {
          "output_type": "stream",
          "name": "stdout",
          "text": [
            "!dlroW ,olleH\n"
          ]
        }
      ]
    },
    {
      "cell_type": "markdown",
      "source": [
        "Part 2: Advanced Slicing\n",
        "1. Slicing Substrings:\n",
        "\n",
        "a. Given a string sentence = \"The quick brown fox jumps over the lazy\n",
        "dog\", slice and print the following:\n",
        "\n",
        "i. The word \"quick\".\n",
        "\n",
        "ii. The word \"lazy\".\n",
        "\n",
        "iii. The words \"brown fox jumps\""
      ],
      "metadata": {
        "id": "uCzkNg09lRJY"
      }
    },
    {
      "cell_type": "code",
      "source": [
        "sentence = \"The quick brown fox jumps over the lazy dog\"\n",
        "\n",
        "# i.  The word \"quick\"\n",
        "\n",
        "print(sentence[4:9])       # Starting from index 0, 'quick' starting from position 4, ending on 9\n"
      ],
      "metadata": {
        "id": "sIGiJMF1lZ1H",
        "colab": {
          "base_uri": "https://localhost:8080/"
        },
        "outputId": "22b7bb3c-3597-48ac-c5a7-8d2de24ef5c8"
      },
      "execution_count": 2,
      "outputs": [
        {
          "output_type": "stream",
          "name": "stdout",
          "text": [
            "quick\n"
          ]
        }
      ]
    },
    {
      "cell_type": "code",
      "source": [
        "# ii.  The word \"lazy\"\n",
        "\n",
        "print(sentence[35:40])     # 'lazy' starting from position 35, ending on 40"
      ],
      "metadata": {
        "colab": {
          "base_uri": "https://localhost:8080/"
        },
        "id": "S1Ujrj0idG_c",
        "outputId": "5aa6ce9f-8df6-457d-eba3-e9c401a37c67"
      },
      "execution_count": 3,
      "outputs": [
        {
          "output_type": "stream",
          "name": "stdout",
          "text": [
            "lazy \n"
          ]
        }
      ]
    },
    {
      "cell_type": "code",
      "source": [
        "# iii. The words \"brown fox jumps\"\n",
        "\n",
        "print(sentence[10:25])     # 'brown fox jumps' starting from position 10, ending on 25"
      ],
      "metadata": {
        "colab": {
          "base_uri": "https://localhost:8080/"
        },
        "id": "18wOUY0neMwn",
        "outputId": "4ab5056d-8dd5-4d58-802c-5c5eb9cecabd"
      },
      "execution_count": 4,
      "outputs": [
        {
          "output_type": "stream",
          "name": "stdout",
          "text": [
            "brown fox jumps\n"
          ]
        }
      ]
    },
    {
      "cell_type": "markdown",
      "source": [
        "2. Step Slicing:\n",
        "\n",
        "a. Use step slicing to print the following from the string s:\n",
        "\n",
        "i. Every third character.\n",
        "\n",
        "ii. Every third character starting from the second character.\n",
        "\n",
        "iii. The string reversed, stepping by 2."
      ],
      "metadata": {
        "id": "2HQw4ao4qNGS"
      }
    },
    {
      "cell_type": "code",
      "source": [
        "# i. Every third character\n",
        "\n",
        "s = \"Hello, World!\"\n",
        "print(s[::3])             # Prints entire string by skipping 3 characters using step size\n"
      ],
      "metadata": {
        "colab": {
          "base_uri": "https://localhost:8080/"
        },
        "id": "WiO7nX0QqYhP",
        "outputId": "df19a256-9c27-48f4-e2f6-c59a26b2137f"
      },
      "execution_count": null,
      "outputs": [
        {
          "output_type": "stream",
          "name": "stdout",
          "text": [
            "Hl r!\n"
          ]
        }
      ]
    },
    {
      "cell_type": "code",
      "source": [
        "# ii. Every third character starting from the second character.\n",
        "\n",
        "print(s[1::3])           # Prints every 3 character from starting"
      ],
      "metadata": {
        "colab": {
          "base_uri": "https://localhost:8080/"
        },
        "id": "xnHzm_HxsKcj",
        "outputId": "38202b33-b70a-4cf8-a221-67d48f26a2c3"
      },
      "execution_count": null,
      "outputs": [
        {
          "output_type": "stream",
          "name": "stdout",
          "text": [
            "eoWl\n"
          ]
        }
      ]
    },
    {
      "cell_type": "code",
      "source": [
        "# iii. The string reversed, stepping by 2.\n",
        "\n",
        "print(s[::-2])"
      ],
      "metadata": {
        "colab": {
          "base_uri": "https://localhost:8080/"
        },
        "id": "je4Phm5o4URG",
        "outputId": "e31fccff-f5c4-406b-f15c-260a7ef5299b"
      },
      "execution_count": null,
      "outputs": [
        {
          "output_type": "stream",
          "name": "stdout",
          "text": [
            "!lo olH\n"
          ]
        }
      ]
    },
    {
      "cell_type": "markdown",
      "source": [
        "Part 3: Practical Application\n",
        "\n",
        "1. Extracting Information:\n",
        "\n",
        "a. Given a string data = \"2024-09-01,Sunny,25°C\", extract and print\n",
        "the following:\n",
        "\n",
        "i. The date.\n",
        "\n",
        "ii. The weather condition.\n",
        "\n",
        "iii. The temperature"
      ],
      "metadata": {
        "id": "1l-Q1bmj5KVK"
      }
    },
    {
      "cell_type": "code",
      "source": [
        "# i. The date\n",
        "data = \"2024-09-01,Sunny,25°C\"     # We can do it using SPLIT, using ',' as separator\n",
        "\n",
        "date = data.split(',')            # We created a variable which will contain and perform split operation on data\n",
        "\n",
        "print(\"The date -\",date[0])       # We gave index position 0 for date in data\n",
        "\n"
      ],
      "metadata": {
        "id": "dP0-BG_t5Sas",
        "colab": {
          "base_uri": "https://localhost:8080/"
        },
        "outputId": "c8d79d1a-cfeb-4565-e5b7-3031d4fef2a9"
      },
      "execution_count": 7,
      "outputs": [
        {
          "output_type": "stream",
          "name": "stdout",
          "text": [
            "The date - 2024-09-01\n"
          ]
        }
      ]
    },
    {
      "cell_type": "code",
      "source": [
        "# ii. The weather condition\n",
        "\n",
        "weather = data.split(',')          # Here also we created a variable named weather\n",
        "\n",
        "print(\"The weather condition -\",weather[1])     # Index position is 1 for weather condition"
      ],
      "metadata": {
        "colab": {
          "base_uri": "https://localhost:8080/"
        },
        "id": "vCF0wfeQi9xj",
        "outputId": "8c347fcf-ecd6-4fd8-8a97-e4a7a077c74b"
      },
      "execution_count": 8,
      "outputs": [
        {
          "output_type": "stream",
          "name": "stdout",
          "text": [
            "The weather condition - Sunny\n"
          ]
        }
      ]
    },
    {
      "cell_type": "code",
      "source": [
        "# iii. The temperature\n",
        "\n",
        "temperature = data.split(',')\n",
        "\n",
        "print(\"The temperature -\",temperature[2])  # In the data string the required temperature is at index position 2"
      ],
      "metadata": {
        "colab": {
          "base_uri": "https://localhost:8080/"
        },
        "id": "iL-d99RMj3RN",
        "outputId": "6888a914-75b2-4770-a57e-035886f54f00"
      },
      "execution_count": 9,
      "outputs": [
        {
          "output_type": "stream",
          "name": "stdout",
          "text": [
            "The temperature - 25°C\n"
          ]
        }
      ]
    },
    {
      "cell_type": "markdown",
      "source": [
        "2. Reformatting Strings:\n",
        "\n",
        "i. Given a string phone_number = \"(123) 456-7890\", reformat\n",
        "it to ‘123-456-7890’\n"
      ],
      "metadata": {
        "id": "ACQzFedBlO8f"
      }
    },
    {
      "cell_type": "code",
      "source": [
        "phone_number = \"(123) 456-7890\"\n",
        "\n",
        "num1 = phone_number[1:4]        # For first 3 numbers created variable starting position 1, ending 4\n",
        "\n",
        "num2 = phone_number[6:9]        # For first 3 numbers created variable starting position 6, ending 9\n",
        "\n",
        "num3 = phone_number[10:13]      # For first 3 numbers created variable starting position 10, ending 13\n",
        "\n",
        "phone_num = (num1,num2,num3)     # Created to variable to combine\n",
        "\n",
        "print(('-'.join(phone_num)))        # Combined using join"
      ],
      "metadata": {
        "colab": {
          "base_uri": "https://localhost:8080/"
        },
        "id": "vJMo9wX8lV56",
        "outputId": "9386d00f-1f2d-4854-8568-077da4e2c261"
      },
      "execution_count": 8,
      "outputs": [
        {
          "output_type": "stream",
          "name": "stdout",
          "text": [
            "123-456-789\n"
          ]
        }
      ]
    },
    {
      "cell_type": "markdown",
      "source": [
        "Part 4: Questions based on string methods\n",
        "\n",
        "1. Upper and Lower Case Conversion:\n",
        "\n",
        "i. Given a string s = \"Hello, World!\", perform the following:\n",
        "\n",
        "a. Convert the string to all uppercase letters.\n",
        "\n",
        "b. Convert the string to all lowercase letters.\n",
        "\n",
        "c. Convert the string to title case.\n",
        "\n",
        "d. Capitalize the first letter of the string."
      ],
      "metadata": {
        "id": "jyEmAJ0--s-2"
      }
    },
    {
      "cell_type": "code",
      "source": [
        "# a. Convert the string to all uppercase letters.\n",
        "s = \"Hello, World!\"\n",
        "print(s.upper())                   # Converts whole string in upper case"
      ],
      "metadata": {
        "colab": {
          "base_uri": "https://localhost:8080/"
        },
        "id": "poocpnRL-6G-",
        "outputId": "77d3308d-f819-4424-d640-e82eca3b2df4"
      },
      "execution_count": 3,
      "outputs": [
        {
          "output_type": "stream",
          "name": "stdout",
          "text": [
            "HELLO, WORLD!\n"
          ]
        }
      ]
    },
    {
      "cell_type": "code",
      "source": [
        "# b. Convert the string to all lowercase letters.\n",
        "\n",
        "print(s.lower())                   # Converts whole string lower case"
      ],
      "metadata": {
        "colab": {
          "base_uri": "https://localhost:8080/"
        },
        "id": "Sa05NjeG_hB1",
        "outputId": "4f7efea1-1f8f-4fab-aaf2-023bccd76dde"
      },
      "execution_count": null,
      "outputs": [
        {
          "output_type": "stream",
          "name": "stdout",
          "text": [
            "hello, world!\n"
          ]
        }
      ]
    },
    {
      "cell_type": "code",
      "source": [
        "# c. Convert the string to title case.\n",
        "\n",
        "print(s.title())"
      ],
      "metadata": {
        "colab": {
          "base_uri": "https://localhost:8080/"
        },
        "id": "CXUn9PCX_qCn",
        "outputId": "e96153e2-ef1a-45d6-f4b3-5494bfa765a7"
      },
      "execution_count": 2,
      "outputs": [
        {
          "output_type": "stream",
          "name": "stdout",
          "text": [
            "Hello, World!\n"
          ]
        }
      ]
    },
    {
      "cell_type": "code",
      "source": [
        "# d. Capitalize the first letter of the string.\n",
        "\n",
        "print(s.capitalize())               # Converts first alphabet of string capital"
      ],
      "metadata": {
        "id": "ad0C0MvjAsf6",
        "colab": {
          "base_uri": "https://localhost:8080/"
        },
        "outputId": "98717bac-7f87-490f-b4a0-a26c259abe5b"
      },
      "execution_count": 4,
      "outputs": [
        {
          "output_type": "stream",
          "name": "stdout",
          "text": [
            "Hello, world!\n"
          ]
        }
      ]
    },
    {
      "cell_type": "markdown",
      "source": [
        "2. Finding Substrings:\n",
        "\n",
        " Given a string s = \"The quick brown fox jumps over the lazy dog\",\n",
        "perform the following:\n",
        "\n",
        "a. Find the position of the substring \"fox\".\n",
        "\n",
        "b. Check if the substring \"cat\" is in the string."
      ],
      "metadata": {
        "id": "-QV00hbYAyEc"
      }
    },
    {
      "cell_type": "code",
      "source": [
        "# a. Find the position of the substring \"fox\"\n",
        "\n",
        "s = \"The quick brown fox jumps over the lazy dog\"\n",
        "\n",
        "print(s.find(\"fox\"))          # Finds the substring and prints if present\n"
      ],
      "metadata": {
        "colab": {
          "base_uri": "https://localhost:8080/"
        },
        "id": "sJcqGualCOk0",
        "outputId": "57c8dba0-2189-4ea7-90c3-e51d62de8356"
      },
      "execution_count": null,
      "outputs": [
        {
          "output_type": "stream",
          "name": "stdout",
          "text": [
            "16\n"
          ]
        }
      ]
    },
    {
      "cell_type": "code",
      "source": [
        "# b. Check if the substring \"cat\" is in the string.\n",
        "\n",
        "print(s.find(\"cat\"))        # If substring does not exist returns -1"
      ],
      "metadata": {
        "id": "xauZasFiCoJp",
        "colab": {
          "base_uri": "https://localhost:8080/"
        },
        "outputId": "aa174623-1609-4912-ed43-9b3e5e06e43c"
      },
      "execution_count": 5,
      "outputs": [
        {
          "output_type": "stream",
          "name": "stdout",
          "text": [
            "-1\n"
          ]
        }
      ]
    },
    {
      "cell_type": "markdown",
      "source": [
        "3. Replacing Substrings:\n",
        "\n",
        " Given a string s = \"The quick brown fox jumps over the lazy dog\",\n",
        "perform the following:\n",
        "\n",
        "a. Replace \"fox\" with \"cat\".\n",
        "\n",
        "b. Replace all spaces with underscores.\n",
        "\n",
        "c. Split the string into a list of words.\n",
        "\n",
        "d. Split the string by the letter 'o'.\n"
      ],
      "metadata": {
        "id": "7INjiHHnM2j3"
      }
    },
    {
      "cell_type": "code",
      "source": [
        "# a. Replace \"fox\" with \"cat\"\n",
        "\n",
        "s = \"The quick brown fox jumps over the lazy dog\"\n",
        "\n",
        "print(s.replace('fox','cat'))       # Replaces susbtring fox with cat"
      ],
      "metadata": {
        "colab": {
          "base_uri": "https://localhost:8080/"
        },
        "id": "WgRrZh2eNAF-",
        "outputId": "a32febb5-9a54-45a8-e82f-336390ba919a"
      },
      "execution_count": null,
      "outputs": [
        {
          "output_type": "stream",
          "name": "stdout",
          "text": [
            "The quick brown cat jumps over the lazy dog\n"
          ]
        }
      ]
    },
    {
      "cell_type": "code",
      "source": [
        "# b. Replace all spaces with underscores.\n",
        "\n",
        "print(s.replace(' ',','))         # Replaces ' ' with \",\""
      ],
      "metadata": {
        "colab": {
          "base_uri": "https://localhost:8080/"
        },
        "id": "4a9l2MCFO8Wx",
        "outputId": "9d18ad14-9993-4710-9cf7-9e2815b072b8"
      },
      "execution_count": null,
      "outputs": [
        {
          "output_type": "stream",
          "name": "stdout",
          "text": [
            "The,quick,brown,fox,jumps,over,the,lazy,dog\n"
          ]
        }
      ]
    },
    {
      "cell_type": "code",
      "source": [
        "# c. Split the string into a list of words.\n",
        "\n",
        "print(s.split())                  # Splits the string in smaller parts in square brackets"
      ],
      "metadata": {
        "colab": {
          "base_uri": "https://localhost:8080/"
        },
        "id": "fwl3NYQWPQNk",
        "outputId": "032c7df7-1415-428a-c5f6-ecddeaf7110d"
      },
      "execution_count": null,
      "outputs": [
        {
          "output_type": "stream",
          "name": "stdout",
          "text": [
            "['The', 'quick', 'brown', 'fox', 'jumps', 'over', 'the', 'lazy', 'dog']\n"
          ]
        }
      ]
    },
    {
      "cell_type": "code",
      "source": [
        "# d. Split the string by the letter 'o'.\n",
        "\n",
        "print(s.split('o'))              # Splits the string by specified separatror"
      ],
      "metadata": {
        "id": "voaeT0IiQOkJ",
        "colab": {
          "base_uri": "https://localhost:8080/"
        },
        "outputId": "acc8d320-5c1c-4c67-afac-83d1450b50f7"
      },
      "execution_count": 6,
      "outputs": [
        {
          "output_type": "stream",
          "name": "stdout",
          "text": [
            "['Hell', ', W', 'rld!']\n"
          ]
        }
      ]
    },
    {
      "cell_type": "markdown",
      "source": [
        "4.Joining Strings:\n",
        "\n",
        " Given a list of words\n",
        " words = [\"The\", \"quick\", \"brown\", \"fox\"],\n",
        " perform the following:\n",
        "\n",
        "a. Join the words with spaces.\n",
        "\n",
        "b. Join the words with hyphens"
      ],
      "metadata": {
        "id": "AhtwemKKQzqb"
      }
    },
    {
      "cell_type": "code",
      "source": [
        "# a. Join the words with spaces.\n",
        "\n",
        "words = [\"The\", \"quick\", \"brown\", \"fox\"]\n",
        "\n",
        "print(' '.join(words))           # Combines multiple substrings into one"
      ],
      "metadata": {
        "colab": {
          "base_uri": "https://localhost:8080/"
        },
        "id": "GTsxUp15Q6EK",
        "outputId": "a87fe660-9732-48b5-88f2-94315af4fea0"
      },
      "execution_count": null,
      "outputs": [
        {
          "output_type": "stream",
          "name": "stdout",
          "text": [
            "The quick brown fox\n"
          ]
        }
      ]
    },
    {
      "cell_type": "code",
      "source": [
        "# b. Join the words with hyphens\n",
        "\n",
        "print('-'.join(words))          # Joined by using hypen"
      ],
      "metadata": {
        "colab": {
          "base_uri": "https://localhost:8080/"
        },
        "id": "_bz9nmkIUVu6",
        "outputId": "9e72f32e-0361-454c-a703-085218eb89c9"
      },
      "execution_count": null,
      "outputs": [
        {
          "output_type": "stream",
          "name": "stdout",
          "text": [
            "The-quick-brown-fox\n"
          ]
        }
      ]
    }
  ],
  "metadata": {
    "colab": {
      "toc_visible": true,
      "provenance": []
    },
    "kernelspec": {
      "display_name": "Python 3",
      "name": "python3"
    }
  },
  "nbformat": 4,
  "nbformat_minor": 0
}