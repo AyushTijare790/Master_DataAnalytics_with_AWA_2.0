{
  "cells": [
    {
      "cell_type": "markdown",
      "source": [
        "         \n",
        "                \n",
        "                         \n",
        "                                               Python Assignment: Variables, Operators and Type Casting\n"
      ],
      "metadata": {
        "id": "Azi8AHr7oogM"
      }
    },
    {
      "cell_type": "markdown",
      "source": [
        "Name : Ayush Tijare                  \n",
        "\n",
        "Date : 29/08/24"
      ],
      "metadata": {
        "id": "9rMffi5hpGeS"
      }
    },
    {
      "cell_type": "markdown",
      "source": [
        "1. Understanding Variables:\n",
        "\n",
        "- Variables are name given that refers to a value.\n",
        "\n",
        "- They act as a container to store the data allowing us to\n",
        "  manipulating, reuse and locating the data throughout the program.\n",
        "\n",
        "- Python itself considers the data type we are assigning to a variable.\n"
      ],
      "metadata": {
        "id": "RethQ5zYQX-F"
      }
    },
    {
      "cell_type": "code",
      "source": [
        "\n",
        "my_name = \"Ayush Tijare\"    # My_name is the variable, 'Ayush Tijare' is the value stored in variable.\n",
        "print(type(my_name))          # Checking the data type\n",
        "\n"
      ],
      "metadata": {
        "collapsed": true,
        "colab": {
          "base_uri": "https://localhost:8080/"
        },
        "id": "4fN8KnQbRLJG",
        "outputId": "6984e24f-d4e6-4c6e-beba-a478834f3ee3"
      },
      "execution_count": 44,
      "outputs": [
        {
          "output_type": "stream",
          "name": "stdout",
          "text": [
            "<class 'str'>\n"
          ]
        }
      ]
    },
    {
      "cell_type": "markdown",
      "source": [
        "What is the difference between a variable and a constant? Can we have constants in Python?\n",
        "\n",
        "\n",
        "- Variables - The variables can be changed easily which holds the values for data types they have mutability which helps in updating the values of the variable .\n",
        "\n",
        "- Constants - It is a special type of variable whose value cannot be changed throughout the execution of Program while in Variables it can be changed easily.\n",
        "\n",
        "- But there are no constants in Python unlike other programming languages. Values can always be changed if we print the below code we can find it out easily"
      ],
      "metadata": {
        "id": "z4CgKdP_StRc"
      }
    },
    {
      "cell_type": "markdown",
      "source": [
        "2. Working with different data types\n",
        "\n",
        "a. Create variables of following data types in Python:\n",
        "  1. Integer\n",
        "  2. Float\n",
        "  3. String\n",
        "  4. Boolean  "
      ],
      "metadata": {
        "id": "05czwranUzB4"
      }
    },
    {
      "cell_type": "code",
      "source": [
        "# 1. Integer (Contains numeric values)\n",
        "my_integer = 967\n",
        "print(type(my_integer))\n",
        "\n",
        "# 2. Float (Contains numeric values but with decimal places)\n",
        "my_decimal = 7.98\n",
        "print(type(my_decimal))\n",
        "\n",
        "# 3. String (Contains values in text format)\n",
        "my_text = \"Values in text\"\n",
        "print(type(my_text))\n",
        "\n",
        "# 4. Boolean (refers to a data type that can have one of two values: True or False)\n",
        "x = True\n",
        "y = False\n",
        "\n",
        "print(type(x))\n",
        "print(type(y))\n"
      ],
      "metadata": {
        "colab": {
          "base_uri": "https://localhost:8080/"
        },
        "id": "9q6GzOrRRLDr",
        "outputId": "50411dfb-a564-4af5-9327-4b872e183d68"
      },
      "execution_count": 14,
      "outputs": [
        {
          "output_type": "stream",
          "name": "stdout",
          "text": [
            "<class 'int'>\n",
            "<class 'float'>\n",
            "<class 'str'>\n",
            "<class 'bool'>\n",
            "<class 'bool'>\n"
          ]
        }
      ]
    },
    {
      "cell_type": "markdown",
      "source": [
        "3. Arithmetic Operators\n",
        "- Addition (+)\n",
        "- Subtraction (-)\n",
        "- Multiplication (*)\n",
        "- Division (/)\n",
        "- Floor Division (//)\n",
        "- Modulus (%)\n",
        "- Exponentiation (``)\n"
      ],
      "metadata": {
        "id": "zI34OWjIXw_Y"
      }
    },
    {
      "cell_type": "code",
      "source": [
        "# Addition(+) : Used to add two numbers together.\n",
        "x = 4\n",
        "y = 8\n",
        "Addition = (x + y)\n",
        "print(\"Value for Addition:\", x+y)\n",
        "print(type(Addition))\n"
      ],
      "metadata": {
        "colab": {
          "base_uri": "https://localhost:8080/"
        },
        "id": "QB6mjz3zcyVf",
        "outputId": "e2b34e82-1543-454a-d86c-a1c71a669793"
      },
      "execution_count": 45,
      "outputs": [
        {
          "output_type": "stream",
          "name": "stdout",
          "text": [
            "Value for Addition: 12\n",
            "<class 'int'>\n"
          ]
        }
      ]
    },
    {
      "cell_type": "code",
      "source": [
        "# Subtraction(-) : Used to subtract one number from another.\n",
        "a = 12\n",
        "b = 2\n",
        "Sub = a - b\n",
        "print(\"Value for Subtraction:\", a-b)\n",
        "print(type(Sub))"
      ],
      "metadata": {
        "id": "vPNhdU1xYfds",
        "outputId": "4099caf8-174e-4a36-ef76-f47440c42c5a",
        "colab": {
          "base_uri": "https://localhost:8080/"
        }
      },
      "execution_count": 46,
      "outputs": [
        {
          "output_type": "stream",
          "name": "stdout",
          "text": [
            "Value for Subtraction: 10\n",
            "<class 'int'>\n"
          ]
        }
      ]
    },
    {
      "cell_type": "code",
      "source": [
        "#Multiplication(*): Used to multiply two numbers.\n",
        "g = 2500\n",
        "h = 25\n",
        "Multiply = (g * h)\n",
        "print(\"Value for Multiplication:\", g*h)\n",
        "print(type(Multiply))"
      ],
      "metadata": {
        "id": "XU5eCTsWYkO6",
        "outputId": "73460502-35af-4cda-ab8b-5ff53328d776",
        "colab": {
          "base_uri": "https://localhost:8080/"
        }
      },
      "execution_count": 47,
      "outputs": [
        {
          "output_type": "stream",
          "name": "stdout",
          "text": [
            "Value for Multiplication: 62500\n",
            "<class 'int'>\n"
          ]
        }
      ]
    },
    {
      "cell_type": "code",
      "source": [
        "#Division(/): Used to divide one number by another. The result is a float.\n",
        "i = 15\n",
        "j = 4\n",
        "Div = (i/j)\n",
        "print(\"Value for Divison:\", i/j)\n",
        "print(type(Div))\n"
      ],
      "metadata": {
        "id": "PE7utsz-Yp3j",
        "outputId": "f4aa1e6f-f959-46bc-d125-2b0185140744",
        "colab": {
          "base_uri": "https://localhost:8080/"
        }
      },
      "execution_count": 48,
      "outputs": [
        {
          "output_type": "stream",
          "name": "stdout",
          "text": [
            "Value for Divison: 3.75\n",
            "<class 'float'>\n"
          ]
        }
      ]
    },
    {
      "cell_type": "code",
      "source": [
        "#Floor Division(//) : Used to divide two numbers and return the integer part of the quotient (rounds down).\n",
        "l = 25\n",
        "m = 7\n",
        "Floor = (25//7)\n",
        "print(\"Value for Floor Division:\", l//m)\n",
        "print(type(Floor))"
      ],
      "metadata": {
        "id": "KhwOR5tCYsye",
        "outputId": "2df54107-3b64-4f82-bae3-f90880139950",
        "colab": {
          "base_uri": "https://localhost:8080/"
        }
      },
      "execution_count": 49,
      "outputs": [
        {
          "output_type": "stream",
          "name": "stdout",
          "text": [
            "Value for Floor Division: 3\n",
            "<class 'int'>\n"
          ]
        }
      ]
    },
    {
      "cell_type": "code",
      "source": [
        "#Modulus(%): Returns the remainder after dividing one number by another.\n",
        "p = 10\n",
        "q = 3\n",
        "Modulus = (10 % 3)\n",
        "print(\"Value for Modulus:\", p%q)\n",
        "print(type(Modulus))"
      ],
      "metadata": {
        "id": "zDgA0hEdYwkt",
        "outputId": "6064a15c-ecdf-4c41-d206-41d90dffe2fd",
        "colab": {
          "base_uri": "https://localhost:8080/"
        }
      },
      "execution_count": 50,
      "outputs": [
        {
          "output_type": "stream",
          "name": "stdout",
          "text": [
            "Value for Modulus: 1\n",
            "<class 'int'>\n"
          ]
        }
      ]
    },
    {
      "cell_type": "code",
      "source": [
        "#Exponentiation (**): Raises one number to the power of another\n",
        "u = 69\n",
        "v = 4\n",
        "Expo = (69 % 4)\n",
        "print(\"Value for Exponentiation:\", u**v)\n",
        "print(type(Expo))"
      ],
      "metadata": {
        "id": "V5MsDkP1Ym2u",
        "outputId": "d8c7bd80-aa3b-4df5-9c8f-c737fa29ad3c",
        "colab": {
          "base_uri": "https://localhost:8080/"
        }
      },
      "execution_count": 51,
      "outputs": [
        {
          "output_type": "stream",
          "name": "stdout",
          "text": [
            "Value for Exponentiation: 22667121\n",
            "<class 'int'>\n"
          ]
        }
      ]
    },
    {
      "cell_type": "markdown",
      "source": [
        "Q.  Write a Python script to calculate the area of a rectangle using variables `length`and `width` with values 5 and 10, respectively. Use the multiplication operator.\n"
      ],
      "metadata": {
        "id": "k4kOoLJGbR-R"
      }
    },
    {
      "cell_type": "code",
      "source": [
        "Length = 5               # Assigning variables for calculating length and width\n",
        "Width = 10\n",
        "\n",
        "Area = Length * Width    # Calculating area using multiplication operator and formula\n",
        "\n",
        "print(\"Area of the Rectangle = \",Area)"
      ],
      "metadata": {
        "id": "muQCIsaJbRJU",
        "outputId": "ac041789-14b9-479c-8977-b9226525606c",
        "colab": {
          "base_uri": "https://localhost:8080/"
        }
      },
      "execution_count": 20,
      "outputs": [
        {
          "output_type": "stream",
          "name": "stdout",
          "text": [
            "Area of the Rectangle =  50\n"
          ]
        }
      ]
    },
    {
      "cell_type": "markdown",
      "source": [
        "4. Comparison and Logical Operators\n",
        "  a. Explain the following comparison operators with examples:\n",
        "   1. Equal to (==)\n",
        "   2. Not equal to (!=)\n",
        "   3. Greater than (>)\n",
        "   4. Less than (<)\n",
        "   5. Greater than or equal to (>=)\n",
        "   6. Less than or equal to (<=)"
      ],
      "metadata": {
        "id": "qmcD3j6SckNA"
      }
    },
    {
      "cell_type": "markdown",
      "source": [
        "- Comparison operators are used to compare two values, and the result is a boolean value.\n",
        "- The output will be either True or False."
      ],
      "metadata": {
        "id": "At-qo3lUdFhX"
      }
    },
    {
      "cell_type": "code",
      "source": [
        "\n",
        "# 1. Equal to (`==`): Checks if two values are equal.\n",
        "a = 96\n",
        "b = 82\n",
        "c = 96\n",
        "print(a==b)  # Output = False\n",
        "print(a==c)  # Output = True\n"
      ],
      "metadata": {
        "colab": {
          "base_uri": "https://localhost:8080/"
        },
        "id": "j-ALchGL2Sa_",
        "outputId": "a34ef74f-2467-4147-c20a-975cfa0e111a"
      },
      "execution_count": 52,
      "outputs": [
        {
          "output_type": "stream",
          "name": "stdout",
          "text": [
            "False\n",
            "True\n"
          ]
        }
      ]
    },
    {
      "cell_type": "code",
      "source": [
        "# 2. Not equal to (!=): Checks if two values are not equal.\n",
        "i = 47\n",
        "j = 9\n",
        "k = 47\n",
        "print(i!=j)  # Output = True\n",
        "print(i!=k)  # Output = False"
      ],
      "metadata": {
        "id": "EAE_eUbbddMd",
        "outputId": "e3cfef98-9c1d-4ad9-e53f-1ea44d506817",
        "colab": {
          "base_uri": "https://localhost:8080/"
        }
      },
      "execution_count": 53,
      "outputs": [
        {
          "output_type": "stream",
          "name": "stdout",
          "text": [
            "True\n",
            "False\n"
          ]
        }
      ]
    },
    {
      "cell_type": "code",
      "source": [
        "# 3. Greater than (>): Checks if the left operand is greater than the right operand.\n",
        "l = 34\n",
        "m = 66\n",
        "print(l>m)   # Output = False\n",
        "print(m>l)   # Output = True"
      ],
      "metadata": {
        "id": "1MFdVoGFdirT",
        "outputId": "c32c2700-8fd7-4ce9-ec2d-597fb85e105d",
        "colab": {
          "base_uri": "https://localhost:8080/"
        }
      },
      "execution_count": 54,
      "outputs": [
        {
          "output_type": "stream",
          "name": "stdout",
          "text": [
            "False\n",
            "True\n"
          ]
        }
      ]
    },
    {
      "cell_type": "code",
      "source": [
        "# 4. Less than (<): Checks if the left operand is less than the right operand.\n",
        "o = 54\n",
        "p = 44\n",
        "print(o<p)   # Output = False\n",
        "print(p<o)   # Output = True"
      ],
      "metadata": {
        "id": "DkcCJBR-doMs",
        "outputId": "7a650537-bf42-47eb-b75f-a3beb26fc12e",
        "colab": {
          "base_uri": "https://localhost:8080/"
        }
      },
      "execution_count": 55,
      "outputs": [
        {
          "output_type": "stream",
          "name": "stdout",
          "text": [
            "False\n",
            "True\n"
          ]
        }
      ]
    },
    {
      "cell_type": "code",
      "source": [
        "# 5. Greater than or equal to (>=): Checks if the left operand is greater than or equal to the right operand.\n",
        "r = 45\n",
        "s = 18\n",
        "t = 45\n",
        "print(r >= s)   # Output = True\n",
        "print(r >= t)   # Output = True\n",
        "print(s >= r)   # Output = False"
      ],
      "metadata": {
        "id": "J4u0tzJ7dxyw",
        "outputId": "013c599c-9c32-4e48-9f3f-9ab0df9ff86f",
        "colab": {
          "base_uri": "https://localhost:8080/"
        }
      },
      "execution_count": 56,
      "outputs": [
        {
          "output_type": "stream",
          "name": "stdout",
          "text": [
            "True\n",
            "True\n",
            "False\n"
          ]
        }
      ]
    },
    {
      "cell_type": "code",
      "source": [
        "# 6. Less than or equal to (<=): Checks if the left operand is less than or equal to the right operand.\n",
        "u = 10\n",
        "v = 6\n",
        "w = 10\n",
        "print(u <= v)   # Output = False\n",
        "print(u <= w)   # Output = True\n",
        "print(v <= u)   # Output = True"
      ],
      "metadata": {
        "id": "DhySjxxMd3hD",
        "outputId": "87c347ed-d477-4681-f682-6d757cc2683e",
        "colab": {
          "base_uri": "https://localhost:8080/"
        }
      },
      "execution_count": 57,
      "outputs": [
        {
          "output_type": "stream",
          "name": "stdout",
          "text": [
            "False\n",
            "True\n",
            "True\n"
          ]
        }
      ]
    },
    {
      "cell_type": "markdown",
      "source": [
        "Q. Using logical operators (and, or, not), write a Python script that checks if a number is positive and even."
      ],
      "metadata": {
        "id": "y3drflFNgfj3"
      }
    },
    {
      "cell_type": "code",
      "source": [
        "\n",
        "Value = int(input(\"Enter the value: \"))  # Taking input from user\n",
        "\n",
        "if Value != 0:\n",
        "    if Value > 0 and Value % 2 == 0:     # Giving conditions to check value is positive and even\n",
        "       print(Value, \"is positive and even\")\n",
        "\n",
        "    elif Value > 0 and Value % 2 != 0:     #Using Nested-if to check if value is postitive and odd\n",
        "       print(Value, \"is positibve and odd\")\n",
        "\n",
        "    else:                                 #Else print it is a negative value\n",
        "       print(\"Error,Number is negative\")\n",
        "\n",
        "else:                                # Giving Command to display instruction for user if condition is not fulfilled\n",
        "      print(\"Value is Zero\")\n",
        "\n",
        "\n"
      ],
      "metadata": {
        "colab": {
          "base_uri": "https://localhost:8080/"
        },
        "id": "oG4CqEbqLJHk",
        "outputId": "62bf3693-fb03-4108-d207-fcd9d5d96de9"
      },
      "execution_count": 61,
      "outputs": [
        {
          "output_type": "stream",
          "name": "stdout",
          "text": [
            "Enter the value: 46\n",
            "46 is positive and even\n"
          ]
        }
      ]
    },
    {
      "cell_type": "markdown",
      "source": [
        "5. Type Casting in Python\n",
        "\n",
        "- Type Casting helps in converting value of one data type into another data type as per the user's will for the execution of program\n",
        "\n",
        "- It can be Implicit or Explicit depending on whether the conversion is handled by Python itself or by the programmer\n"
      ],
      "metadata": {
        "id": "Dp-liu2ohA0r"
      }
    },
    {
      "cell_type": "markdown",
      "source": [
        "1. Implicit Data Type:\n",
        "-- Python automatically converts one data type to another without any interference of Programmer.\n",
        "\n",
        "-- It occurs with involvement of different data types in an operation and python converts the types to avoid errors and data loss"
      ],
      "metadata": {
        "id": "H6kTs59YiOVK"
      }
    },
    {
      "cell_type": "code",
      "source": [
        "num_integer = 5        # integer\n",
        "num_float = 4.6        # float\n",
        "\n",
        "result = num_integer + num_float     # implicit conversion of integer to float\n",
        "print(result)                        # Output: 9.6(integer is converted to float) thus avoiding the loss of data by rounding it down\n",
        "print(type(result))                  # Python implicitly converts num_int from an integer to a float during the addition operation.\n"
      ],
      "metadata": {
        "colab": {
          "base_uri": "https://localhost:8080/"
        },
        "id": "1CJW_bSXbCB6",
        "outputId": "21ded7c7-3e56-4bbe-98fc-3d99eb8a6686"
      },
      "execution_count": 59,
      "outputs": [
        {
          "output_type": "stream",
          "name": "stdout",
          "text": [
            "9.6\n",
            "<class 'float'>\n"
          ]
        }
      ]
    },
    {
      "cell_type": "markdown",
      "source": [
        "\n",
        "2. Explicit Data Type:\n",
        "-- The programmer manually converts one data type to another using built-in functions like int(), float(), str()."
      ],
      "metadata": {
        "id": "9GM0CbzDiTIw"
      }
    },
    {
      "cell_type": "code",
      "source": [
        "num_string = \"100\"          # string\n",
        "num_integer = int(num_string)  # explicit conversion from string to integer\n",
        "\n",
        "print(num_integer)         # Output: 100\n",
        "print(type(num_integer))   # In this case, int() is used to explicitly convert the string \"100\" to an integer."
      ],
      "metadata": {
        "colab": {
          "base_uri": "https://localhost:8080/"
        },
        "id": "QJs7tvp4ohnz",
        "outputId": "51a4bef1-c20d-4957-98e9-dbe3738cf8a3"
      },
      "execution_count": 60,
      "outputs": [
        {
          "output_type": "stream",
          "name": "stdout",
          "text": [
            "100\n",
            "<class 'int'>\n"
          ]
        }
      ]
    },
    {
      "cell_type": "markdown",
      "source": [
        "Write a Python script that:\n",
        "  1. Converts a float to an integer.\n",
        "  2. Converts an integer to a string.\n",
        "  3. Converts a string to a float."
      ],
      "metadata": {
        "id": "vVU2BDfLi-ax"
      }
    },
    {
      "cell_type": "code",
      "source": [
        "# 1. Converts a float to an integer\n",
        "my_float = 48.45\n",
        "my_integer = int(my_float)   # Explicit conversion from float to integer\n",
        "print(my_float,\"float converted to integer:\",my_integer)\n",
        "print(type(my_integer))"
      ],
      "metadata": {
        "colab": {
          "base_uri": "https://localhost:8080/"
        },
        "id": "I8Bt6VIiok2w",
        "outputId": "aceddcc0-a7df-4680-91dc-cd3c16cca0a5"
      },
      "execution_count": 62,
      "outputs": [
        {
          "output_type": "stream",
          "name": "stdout",
          "text": [
            "48.45 float converted to integer: 48\n",
            "<class 'int'>\n"
          ]
        }
      ]
    },
    {
      "cell_type": "code",
      "source": [
        "# 2. Converts an Integer to a String\n",
        "my_integer = 37\n",
        "my_string = str(my_integer)  # Explicit conversion from integer to string\n",
        "print(my_integer,\"integer converted to string:\",my_string)\n",
        "print(type(my_string))\n"
      ],
      "metadata": {
        "colab": {
          "base_uri": "https://localhost:8080/"
        },
        "id": "KDfPqRSEozlp",
        "outputId": "cea65b45-984a-4caa-a189-aa874e8d2f10"
      },
      "execution_count": 63,
      "outputs": [
        {
          "output_type": "stream",
          "name": "stdout",
          "text": [
            "37 integer converted to string: 37\n",
            "<class 'str'>\n"
          ]
        }
      ]
    },
    {
      "cell_type": "code",
      "source": [
        "# 3. Converts a string to a float\n",
        "my_string = \"66.78\"\n",
        "my_float = float(my_string)  # Explicit conversion from string to float\n",
        "print(\"string converted to float:\",my_float)\n",
        "print(type(my_float))\n",
        "\n"
      ],
      "metadata": {
        "colab": {
          "base_uri": "https://localhost:8080/"
        },
        "id": "rADJ_yO5qVyA",
        "outputId": "3f53b2f5-d828-4c3e-fac9-f1dfc2b09b5b"
      },
      "execution_count": 64,
      "outputs": [
        {
          "output_type": "stream",
          "name": "stdout",
          "text": [
            "string converted to float: 66.78\n",
            "<class 'float'>\n"
          ]
        }
      ]
    },
    {
      "cell_type": "markdown",
      "source": [
        "6. Practical Exercise: Mini Calculator\n",
        "  Write a Python script that asks the user to input two numbers and then:\n",
        " - Adds the two numbers and prints the result.\n",
        " - Subtracts the second number from the first and prints the result.\n",
        " -  Multiplies the two numbers and prints the result.\n",
        " -  Divides the first number by the second and prints the result\n",
        "    (handle division by zero).\n",
        " - Converts the sum of the numbers to a string and prints the type of the result."
      ],
      "metadata": {
        "id": "zLthDjMzjnnn"
      }
    },
    {
      "cell_type": "code",
      "source": [
        "num1 = float(input(\"Enter the first number: \"))      # Taking input from user\n",
        "num2 = float(input(\"Enter the second number: \"))     #Using float because number can be in decimal\n",
        "\n",
        "Operation_to_be_Performed = input(\"Enter the Operation to be Performed on the numbers: First letter capital - \")    # Asking user the calculation he wants to do\n",
        "\n",
        "if Operation_to_be_Performed == (\"Addition\"):        # Giving command to perform addition if the user asked calculation matches conditional string\n",
        "          print(\"Value for Addition: \",num1 + num2)\n",
        "\n",
        "if Operation_to_be_Performed == (\"Subtraction\") :   # Using Nested If's so that there is no negative output\n",
        "\n",
        "       if num1 > num2 :                             # If num1 is greater then only calculation takes place else it will give error\n",
        "         print(\"Subtraction:\", num1 - num2)\n",
        "\n",
        "       else:\n",
        "        print(\"Error, Second value is greater than first value answer will be in negative\")\n",
        "\n",
        "\n",
        "elif Operation_to_be_Performed == (\"Multiplication\"):\n",
        "        print(\"Multiplication:\", int(num1 * num2))\n",
        "\n",
        "\n",
        "elif Operation_to_be_Performed == (\"Division\") : # Division cannot take place if denominator is zero\n",
        "        if num2 != 0:\n",
        "            print(\"Division:\",num1/num2)\n",
        "\n",
        "        else:\n",
        "            print(\"Error, Division with zero not possible. Enter another value\")\n",
        "\n"
      ],
      "metadata": {
        "colab": {
          "base_uri": "https://localhost:8080/"
        },
        "id": "mm0WcYLZGMc_",
        "outputId": "d7473fd0-3be9-437c-a45e-69a3c88e3b89"
      },
      "execution_count": 67,
      "outputs": [
        {
          "output_type": "stream",
          "name": "stdout",
          "text": [
            "Enter the first number: 14\n",
            "Enter the second number: 0\n",
            "Enter the Operation to be Performed on the numbers: First letter capital Division\n",
            "Error, Division with zero not possible\n"
          ]
        }
      ]
    }
  ],
  "metadata": {
    "colab": {
      "name": "Welcome To Colab",
      "toc_visible": true,
      "provenance": []
    },
    "kernelspec": {
      "display_name": "Python 3",
      "name": "python3"
    }
  },
  "nbformat": 4,
  "nbformat_minor": 0
}